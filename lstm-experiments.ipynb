{
 "cells": [
  {
   "cell_type": "code",
   "execution_count": 1,
   "metadata": {},
   "outputs": [],
   "source": [
    "import os\n",
    "import pandas as pd\n",
    "import matplotlib.pyplot as plt\n",
    "from pylab import *\n",
    "import numpy as np\n",
    "from tensorflow import keras\n",
    "from sklearn.metrics import mean_absolute_error"
   ]
  },
  {
   "attachments": {},
   "cell_type": "markdown",
   "metadata": {},
   "source": [
    "This notebook corresponds to the experiments run for the 2.1 section of the vision paper \"Is Machine Learning Necessary for Cloud Resource Usage Forecasting?\". The models used for inference are the ones deployed in the cloud-forecast-lstm repository that can be found here: https://github.com/muse-research-lab/cloud-forecast-lstm. \n",
    "\n",
    "We conduct three sets of experiments, that define different test datasets to use during inference over the trained models, where there is one model per job. In more detail:\n",
    "• Experiment A defines as test dataset the data used during training, to evaluate the achieved prediction accuracy per model.\n",
    "• Experiment B uses as test data the time series of 10 randomly selected tasks of the same job, excluding the training data,running inference with the model corresponding to the same job.\n",
    "• Experiment C uses the trained model of the job with identifier 113, to run inference against test data of 10 tasks belonging to the other jobs, namely 374, 399, 917 (x-axis).\n",
    "\n",
    "We generate three plots, that correspond to each experiment and capture the resource usage prediction error when using ML models (LSTMs) vs a non-ML prediction. More details on the non-ML prediction can be found in section 3.1 of the paper under the paragraph Data Persistence Metric."
   ]
  },
  {
   "cell_type": "code",
   "execution_count": 2,
   "metadata": {},
   "outputs": [],
   "source": [
    "job_ids = ['113812204462', '374877055556', '399444405700', '91724979887']\n",
    "job_labels = ['113', '374', '399', '917']"
   ]
  },
  {
   "cell_type": "code",
   "execution_count": 3,
   "metadata": {},
   "outputs": [],
   "source": [
    "def split_sequence(sequence, n_steps):\n",
    "    X, y = list(), list()\n",
    "    for i in range(len(sequence)):\n",
    "        # find the end of this pattern\n",
    "        end_ix = i + n_steps\n",
    "        # check if we are beyond the sequence\n",
    "        if end_ix > len(sequence) - 1:\n",
    "            break\n",
    "        # gather input and output parts of the pattern\n",
    "        seq_x, seq_y = sequence[i:end_ix], sequence[end_ix]\n",
    "        X.append(seq_x)\n",
    "        y.append(seq_y)\n",
    "    return np.array(X), np.array(y)"
   ]
  },
  {
   "cell_type": "code",
   "execution_count": 4,
   "metadata": {},
   "outputs": [],
   "source": [
    "s1_all_results = []\n",
    "s1_all_lstm_mae = []\n",
    "s1_all_previous_mae = []\n",
    "\n",
    "s2_all_results = []\n",
    "s2_all_lstm_mae = []\n",
    "s2_all_previous_mae = []\n",
    "\n",
    "s3_all_results = []\n",
    "s3_all_lstm_mae = []\n",
    "s3_all_previous_mae = []"
   ]
  },
  {
   "cell_type": "code",
   "execution_count": 5,
   "metadata": {},
   "outputs": [
    {
     "name": "stderr",
     "output_type": "stream",
     "text": [
      "2023-09-18 10:43:58.909112: W tensorflow/tsl/platform/profile_utils/cpu_utils.cc:128] Failed to get CPU frequency: 0 Hz\n"
     ]
    }
   ],
   "source": [
    "for ind, job_id in enumerate(job_ids):\n",
    "    job_label = job_labels[ind]\n",
    "    columns_to_use = ['avg_cpu_usage', 'time']\n",
    "    time_col = 'time'\n",
    "    col = 'avg_cpu_usage'\n",
    "    time_unit = 'us'\n",
    "    freq = '5min'\n",
    "\n",
    "    # folder path\n",
    "    dir_path = r'input-large/' + job_id + '/'\n",
    "\n",
    "    # list to store files\n",
    "    list_of_files = []\n",
    "\n",
    "    # Iterate directory\n",
    "    for path in os.listdir(dir_path):\n",
    "        # check if current path is a file\n",
    "        if os.path.isfile(os.path.join(dir_path, path)):\n",
    "            list_of_files.append(path)\n",
    "                    \n",
    "    csv_data_list = []\n",
    "    for i in list_of_files:\n",
    "        type(i)\n",
    "        dir = 'input-large/' +job_id + '/' + i \n",
    "        csv_data_list.append(pd.read_csv(filepath_or_buffer=dir, usecols=columns_to_use))\n",
    "\n",
    "    data = []\n",
    "    for df in csv_data_list:\n",
    "        df[time_col] = pd.to_datetime(\n",
    "        df[time_col], unit=time_unit)\n",
    "        df.set_index(time_col, inplace=True)\n",
    "        df = df[~df.index.duplicated(keep=\"first\")]\n",
    "        df = df.resample(freq).mean()\n",
    "        df = df.asfreq(freq=freq, method=\"ffill\")\n",
    "        df = df.replace((np.inf, -np.inf, np.nan), 0).reset_index(drop=True)\n",
    "        data.append(df)\n",
    "    \n",
    "    for mod_index, model_id in enumerate(job_ids):\n",
    "        model_label = job_labels[mod_index]\n",
    "        number_of_tasks = len(list_of_files)\n",
    "        avg_res = []\n",
    "        for i in range (0, number_of_tasks):\n",
    "            x_test = data[i][:800]['avg_cpu_usage']\n",
    "            n_features = 1\n",
    "            n_steps = 30\n",
    "\n",
    "            a = min(x_test)\n",
    "            b = max(x_test)\n",
    "            x_test_normalised = []\n",
    "            for x in x_test:\n",
    "                x_test_normalised.append(((x-a)/(b-a)))\n",
    "\n",
    "            # split into samples\n",
    "            X_test, y_test = split_sequence(x_test_normalised, n_steps)\n",
    "            X_test = X_test.reshape((X_test.shape[0], X_test.shape[1], n_features))\n",
    "                            \n",
    "            model = keras.models.load_model('pretrained_lstm_models/job' + model_label + '/newbaseline_model/model')\n",
    "            m = model\n",
    "            yh = m.predict(X_test, verbose=0)\n",
    "            \n",
    "            result = []\n",
    "            for item1, item2 in zip(yh[0:600], x_test_normalised[30:630]):\n",
    "                result.append(np.abs(item1-item2))\n",
    "\n",
    "            mae_lstm = mean_absolute_error(x_test_normalised[30:630], yh[0:600])\n",
    "            mae_previous = mean_absolute_error(x_test_normalised[30:630], x_test_normalised[31:631])\n",
    "            \n",
    "            #experiment C\n",
    "            if(mod_index==0):\n",
    "                s3_all_previous_mae.append(mae_previous)\n",
    "\n",
    "            s3_all_results.append(result)\n",
    "            s3_all_lstm_mae.append(mae_lstm)\n",
    "\n",
    "            if (i == 0 and model_id == job_id):\n",
    "                #experiment A\n",
    "                s1_all_results.append(result)\n",
    "                s1_all_lstm_mae.append(mae_lstm)\n",
    "                s1_all_previous_mae.append(mae_previous)\n",
    "\n",
    "            if (model_id == job_id):\n",
    "                #experiment B\n",
    "                s2_all_results.append(result)\n",
    "                s2_all_lstm_mae.append(mae_lstm)\n",
    "                s2_all_previous_mae.append(mae_previous)\n",
    "\n",
    "            y_denorm = []\n",
    "            for y in yh:\n",
    "                y_denorm.append(y*((b)-(a)) + (a))\n",
    "            \n",
    "            fig, ax = plt.subplots()\n",
    "            fig.set_size_inches(35, 9)\n",
    "            ax.set_xlabel('Time (hours)', size = 45)\n",
    "            \n",
    "            plt.xticks(size = 45)\n",
    "            plt.yticks(size = 45)\n",
    "            x_ticks = [0, 60, 120, 180]\n",
    "            x_labels = [0, 8, 16, 24]\n",
    "            plt.xticks(ticks=x_ticks, labels=x_labels)\n",
    "            y_ticks = [0.010, 0.013, 0.016, 0.019 ,0.022, 0.027, 0.3, 0.35, 0.4, 0.045, 0.05, 0.055, 0.06, 0.065]\n",
    "            plt.yticks(ticks=y_ticks, labels=y_ticks) \n",
    "            plt.ylabel(\"AVG CPU usage (%)\", size = 45)\n",
    "            ax.tick_params(width=4)\n",
    "            bins = np.linspace(0, 100, 100)\n",
    "            \n",
    "            plt.plot(bins, y_denorm[0:100], alpha=1, color=\"#923b62\",label='ML prediction')\n",
    "            plt.plot(bins, x_test[29:129], alpha=1, color=\"#e6ae65\",label='non-ML prediction')\n",
    "            plt.plot(bins, x_test[30:130], alpha=1, color=\"#1e256c\",label='ground truth')\n",
    "            plt.legend(loc=\"upper right\", prop={'size': 45})\n",
    "            plt.savefig('Inference of job ' + job_label + ' using ' + model_id + 'task' + str(i) + ' model' +'.pdf', bbox_inches='tight')\n",
    "            plt.close()"
   ]
  },
  {
   "attachments": {},
   "cell_type": "markdown",
   "metadata": {},
   "source": [
    "Experiment A"
   ]
  },
  {
   "cell_type": "code",
   "execution_count": 6,
   "metadata": {},
   "outputs": [
    {
     "data": {
      "image/png": "[encoded data removed]",
      "text/plain": [
       "<Figure size 170x170 with 1 Axes>"
      ]
     },
     "metadata": {},
     "output_type": "display_data"
    }
   ],
   "source": [
    "fig = plt.figure(figsize=(1.7,1.7))\n",
    "ax = fig.add_axes([0,0,1,1])\n",
    "\n",
    "methods = ['113', '374', '399', '917']\n",
    "\n",
    "x = np.arange(4)\n",
    "y1 = s1_all_lstm_mae\n",
    "y2 = s1_all_previous_mae\n",
    "width = 0.2\n",
    "  \n",
    "plt.bar(x-0.11, y1, width, color=\"#e6ae65\")\n",
    "plt.bar(x+0.11, y2, width, color=\"#69105e\")\n",
    "\n",
    "plt.xticks(x, methods, size = 10)\n",
    "plt.yticks(size = 10)\n",
    "plt.xlabel(\"Jobs\", size = 10)\n",
    "plt.ylabel(\"MAE\", size = 10)\n",
    "plt.ylim(0, 0.06)\n",
    "\n",
    "plt.legend([\"ML\", \"non-ML\"],fontsize = 9,loc='upper center', bbox_to_anchor=(0.5, 1.25),\n",
    "          fancybox=True, shadow=True, ncol=2)\n",
    "plt.show()"
   ]
  },
  {
   "attachments": {},
   "cell_type": "markdown",
   "metadata": {},
   "source": [
    "Experiment B"
   ]
  },
  {
   "cell_type": "code",
   "execution_count": 8,
   "metadata": {},
   "outputs": [],
   "source": [
    "mae_s2 = []\n",
    "mae_s2_error = []\n",
    "\n",
    "mae_s2.append(np.mean(np.array(s2_all_lstm_mae[0:10])))\n",
    "mae_s2_error.append(np.std(s2_all_lstm_mae[0:10]))\n",
    "\n",
    "mae_s2.append(np.mean(np.array(s2_all_lstm_mae[10:20])))\n",
    "mae_s2_error.append(np.std(s2_all_lstm_mae[10:20]))\n",
    "\n",
    "mae_s2.append(np.mean(np.array(s2_all_lstm_mae[20:30])))\n",
    "mae_s2_error.append(np.std(s2_all_lstm_mae[20:30]))\n",
    "\n",
    "mae_s2.append(np.mean(np.array(s2_all_lstm_mae[30:40])))\n",
    "mae_s2_error.append(np.std(s2_all_lstm_mae[30:40]))"
   ]
  },
  {
   "cell_type": "code",
   "execution_count": 9,
   "metadata": {},
   "outputs": [],
   "source": [
    "mae_s2_previous = []\n",
    "mae_s2_error_previous = []\n",
    "\n",
    "mae_s2_previous.append(np.mean(np.array(s2_all_previous_mae[0:10])))\n",
    "mae_s2_error_previous.append(np.std(s2_all_previous_mae[0:10]))\n",
    "\n",
    "mae_s2_previous.append(np.mean(np.array(s2_all_previous_mae[10:20])))\n",
    "mae_s2_error_previous.append(np.std(s2_all_previous_mae[10:20]))\n",
    "\n",
    "mae_s2_previous.append(np.mean(np.array(s2_all_previous_mae[20:30])))\n",
    "mae_s2_error_previous.append(np.std(s2_all_previous_mae[20:30]))\n",
    "\n",
    "mae_s2_previous.append(np.mean(np.array(s2_all_previous_mae[30:40])))\n",
    "mae_s2_error_previous.append(np.std(s2_all_previous_mae[30:40]))"
   ]
  },
  {
   "cell_type": "code",
   "execution_count": 10,
   "metadata": {},
   "outputs": [
    {
     "data": {
      "image/png": "[encoded data removed]",
      "text/plain": [
       "<Figure size 170x170 with 1 Axes>"
      ]
     },
     "metadata": {},
     "output_type": "display_data"
    }
   ],
   "source": [
    "fig = plt.figure(figsize=(1.7,1.7))\n",
    "ax = fig.add_axes([0,0,1,1])\n",
    "\n",
    "methods = ['113', '374', '399', '917']\n",
    "\n",
    "x = np.arange(4)\n",
    "y1 = mae_s2\n",
    "y2 = mae_s2_previous\n",
    "width = 0.2\n",
    "\n",
    "plt.bar(x-0.11, y1, width, color=\"#e6ae65\", yerr=mae_s2_error, align='center', ecolor='black', capsize=2)\n",
    "plt.bar(x+0.11, y2, width, color=\"#69105e\", yerr=mae_s2_error_previous, align='center', ecolor='black', capsize=2)\n",
    "plt.xticks(x, methods, size = 10)\n",
    "plt.yticks(size = 10)\n",
    "plt.xlabel(\"Jobs\", size = 10)\n",
    "plt.ylabel(\"MAE\", size = 10)\n",
    "plt.ylim(0, 0.06)\n",
    "\n",
    "plt.legend([\"ML\", \"non-ML\"],fontsize = 9,loc='upper center', bbox_to_anchor=(0.5, 1.25),\n",
    "          fancybox=True, shadow=True, ncol=2)\n",
    "plt.show()"
   ]
  },
  {
   "attachments": {},
   "cell_type": "markdown",
   "metadata": {},
   "source": [
    "Experiment C"
   ]
  },
  {
   "cell_type": "code",
   "execution_count": 14,
   "metadata": {},
   "outputs": [],
   "source": [
    "mae_s3 = []\n",
    "mae_s3_error = []\n",
    "\n",
    "mae_s3.append(np.mean(np.array(s3_all_lstm_mae[10:20])))\n",
    "mae_s3_error.append(np.std(s3_all_lstm_mae[10:20]))\n",
    "\n",
    "mae_s3.append(np.mean(np.array(s3_all_lstm_mae[20:30])))\n",
    "mae_s3_error.append(np.std(s3_all_lstm_mae[20:30]))\n",
    "\n",
    "mae_s3.append(np.mean(np.array(s3_all_lstm_mae[30:40])))\n",
    "mae_s3_error.append(np.std(s3_all_lstm_mae[30:40]))\n",
    "\n",
    "\n",
    "mae_s3_previous = []\n",
    "mae_s3_error_previous = []\n",
    "\n",
    "mae_s3_previous.append(np.mean(np.array(s3_all_previous_mae[10:20])))\n",
    "mae_s3_error_previous.append(np.std(s3_all_previous_mae[10:20]))\n",
    "\n",
    "mae_s3_previous.append(np.mean(np.array(s3_all_previous_mae[20:30])))\n",
    "mae_s3_error_previous.append(np.std(s3_all_previous_mae[20:30]))\n",
    "\n",
    "mae_s3_previous.append(np.mean(np.array(s3_all_previous_mae[30:40])))\n",
    "mae_s3_error_previous.append(np.std(s3_all_previous_mae[30:40]))"
   ]
  },
  {
   "cell_type": "code",
   "execution_count": 15,
   "metadata": {},
   "outputs": [
    {
     "data": {
      "image/png": "[encoded data removed]",
      "text/plain": [
       "<Figure size 170x170 with 1 Axes>"
      ]
     },
     "metadata": {},
     "output_type": "display_data"
    }
   ],
   "source": [
    "fig = plt.figure(figsize=(1.7,1.7))\n",
    "ax = fig.add_axes([0,0,1,1])\n",
    "\n",
    "methods = ['374', '399', '917']\n",
    "\n",
    "x = np.arange(3)\n",
    "y1 = mae_s3\n",
    "y2 = mae_s3_previous\n",
    "width = 0.2\n",
    "  \n",
    "plt.bar(x-0.11, y1, width, color=\"#e6ae65\", yerr=mae_s3_error, align='center', ecolor='black', capsize=2)\n",
    "plt.bar(x+0.11, y2, width, color=\"#69105e\", yerr=mae_s3_error_previous, align='center', ecolor='black', capsize=2)\n",
    "plt.xticks(x, methods, size = 10)\n",
    "plt.yticks(size = 10)\n",
    "plt.xlabel(\"Jobs\", size = 10)\n",
    "plt.ylabel(\"MAE\", size = 10)\n",
    "plt.ylim(0, 0.06)\n",
    "\n",
    "plt.legend([\"ML\", \"non-ML\"],fontsize = 9,loc='upper center', bbox_to_anchor=(0.5, 1.25),\n",
    "          fancybox=True, shadow=True, ncol=2)\n",
    "plt.show()"
   ]
  }
 ],
 "metadata": {
  "kernelspec": {
   "display_name": ".venv",
   "language": "python",
   "name": "python3"
  },
  "language_info": {
   "codemirror_mode": {
    "name": "ipython",
    "version": 3
   },
   "file_extension": ".py",
   "mimetype": "text/x-python",
   "name": "python",
   "nbconvert_exporter": "python",
   "pygments_lexer": "ipython3",
   "version": "3.9.6 (default, Aug  5 2022, 15:21:02) \n[Clang 14.0.0 (clang-1400.0.29.102)]"
  },
  "orig_nbformat": 4,
  "vscode": {
   "interpreter": {
    "hash": "4cbfe3942a2c2493be45357a74466ae47d31e4fc9fb8cb67ec0db9fcfa5c8c97"
   }
  }
 },
 "nbformat": 4,
 "nbformat_minor": 2
}
