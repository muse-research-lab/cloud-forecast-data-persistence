{
 "cells": [
  {
   "cell_type": "code",
   "execution_count": 1,
   "metadata": {},
   "outputs": [],
   "source": [
    "import matplotlib.pyplot as plt\n",
    "import matplotlib as mpl\n",
    "import numpy as np\n",
    "\n",
    "from gtd.input import CsvFullReader\n",
    "from gtd.preprocessor import TimeConfigurator, TaskNormalizer, OutlierHandler\n",
    "\n",
    "from sklearn.metrics import mean_squared_error, mean_absolute_error"
   ]
  },
  {
   "attachments": {},
   "cell_type": "markdown",
   "metadata": {},
   "source": [
    "In this notebook we define the experiments regarding the degree of data persistency over time across 4 datasets. The details of the datasets and the resource metrics we use can be found in the Table 1 of the paper. First, in the Data Processing section, we extract the data for the experiments that follow. In the Section Paper Graphs, we plot the Figures 3 and 4 of the paper that capture the cumulative distribution of the average relative delta (ARD) metric per time series and the the average ARD value across all time series of the corresponding resource metric (x-axis) for the Google dataset, respectively.\n",
    "\n",
    "To run this code, it is necessary to install the package gtd that can be found here: https://github.com/muse-research-lab/cloud-traces-comparison, along with instructions for its instalment. "
   ]
  },
  {
   "attachments": {},
   "cell_type": "markdown",
   "metadata": {},
   "source": [
    "## Data Processing"
   ]
  },
  {
   "cell_type": "code",
   "execution_count": 2,
   "metadata": {},
   "outputs": [],
   "source": [
    "llim = 0.01\n",
    "ulim = 0.99"
   ]
  },
  {
   "attachments": {},
   "cell_type": "markdown",
   "metadata": {},
   "source": [
    "### Alibaba"
   ]
  },
  {
   "cell_type": "code",
   "execution_count": 3,
   "metadata": {},
   "outputs": [],
   "source": [
    "alibaba_input_dir = './alibaba/'\n",
    "alibaba_columns = ['cpu_util_percent', 'mem_util_percent', 'net_in', 'net_out', 'disk_io_percent']\n",
    "alibaba_time_col = 'time_stamp'"
   ]
  },
  {
   "cell_type": "code",
   "execution_count": 4,
   "metadata": {},
   "outputs": [],
   "source": [
    "alibaba_input_0 = CsvFullReader(input_dir=alibaba_input_dir, structured=False, columns=alibaba_columns + [alibaba_time_col]).read_input()"
   ]
  },
  {
   "cell_type": "code",
   "execution_count": 5,
   "metadata": {},
   "outputs": [],
   "source": [
    "alibaba_input_1 = TaskNormalizer(col='cpu_util_percent').run(alibaba_input_0)\n",
    "alibaba_input_2 = TaskNormalizer(col='mem_util_percent').run(alibaba_input_1)\n",
    "alibaba_input_3 = TaskNormalizer(col='net_in').run(alibaba_input_2)\n",
    "alibaba_input_4 = TaskNormalizer(col='net_out').run(alibaba_input_3)\n",
    "alibaba_input_ = TaskNormalizer(col='disk_io_percent').run(alibaba_input_4)"
   ]
  },
  {
   "cell_type": "code",
   "execution_count": 6,
   "metadata": {},
   "outputs": [],
   "source": [
    "alibaba_input_01 = OutlierHandler(col='cpu_util_percent', llim=llim, ulim=ulim).run(alibaba_input_)\n",
    "alibaba_input_02 =OutlierHandler(col='mem_util_percent', llim=llim, ulim=ulim).run(alibaba_input_01)\n",
    "alibaba_input_03 = OutlierHandler(col='net_in', llim=llim, ulim=ulim).run(alibaba_input_02)\n",
    "alibaba_input_04 = OutlierHandler(col='net_out', llim=llim, ulim=ulim).run(alibaba_input_03)\n",
    "alibaba_input = OutlierHandler(col='disk_io_percent', llim=llim, ulim=ulim).run(alibaba_input_04)"
   ]
  },
  {
   "attachments": {},
   "cell_type": "markdown",
   "metadata": {},
   "source": [
    "### Azure"
   ]
  },
  {
   "cell_type": "code",
   "execution_count": 7,
   "metadata": {},
   "outputs": [],
   "source": [
    "azure_input_dir = './azure/'\n",
    "azure_columns = ['min_cpu', 'max_cpu', 'avg_cpu']\n",
    "azure_time_col = 'timestamp'\n",
    "azure_time_unit = 's'\n",
    "azure_freq = '5min'"
   ]
  },
  {
   "cell_type": "code",
   "execution_count": 8,
   "metadata": {},
   "outputs": [],
   "source": [
    "azure_input_0 = CsvFullReader(input_dir=azure_input_dir, structured=False, columns=azure_columns + [azure_time_col]).read_input()"
   ]
  },
  {
   "cell_type": "code",
   "execution_count": 9,
   "metadata": {},
   "outputs": [],
   "source": [
    "azure_input_1 = TimeConfigurator(time_col=azure_time_col, time_unit=azure_time_unit, freq=azure_freq).run(azure_input_0)"
   ]
  },
  {
   "cell_type": "code",
   "execution_count": 10,
   "metadata": {},
   "outputs": [],
   "source": [
    "azure_input_2 = TaskNormalizer(col='min_cpu').run(azure_input_1)\n",
    "azure_input_3 = TaskNormalizer(col='max_cpu').run(azure_input_2)\n",
    "azure_input_ = TaskNormalizer(col='avg_cpu').run(azure_input_3)"
   ]
  },
  {
   "cell_type": "code",
   "execution_count": 11,
   "metadata": {},
   "outputs": [],
   "source": [
    "azure_input_01 = OutlierHandler(col='min_cpu', llim=llim, ulim=ulim).run(azure_input_)\n",
    "azure_input_02 =OutlierHandler(col='max_cpu', llim=llim, ulim=ulim).run(azure_input_01)\n",
    "azure_input = OutlierHandler(col='avg_cpu', llim=llim, ulim=ulim).run(azure_input_02)"
   ]
  },
  {
   "attachments": {},
   "cell_type": "markdown",
   "metadata": {},
   "source": [
    "### Bitbrains"
   ]
  },
  {
   "cell_type": "code",
   "execution_count": 12,
   "metadata": {},
   "outputs": [],
   "source": [
    "bitbrains_input_dir = './bitbrains/'\n",
    "bitbrains_columns = ['CPU usage [MHZ]', 'CPU usage [%]', 'Memory usage [KB]', 'Disk read throughput [KB/s]',\n",
    "           'Disk write throughput [KB/s]', 'Network received throughput [KB/s]', 'Network transmitted throughput [KB/s]']\n",
    "bitbrains_time_col = 'Timestamp [ms]'\n",
    "bitbrains_time_unit = 's'\n",
    "bitbrains_freq = '5min'"
   ]
  },
  {
   "cell_type": "code",
   "execution_count": 13,
   "metadata": {},
   "outputs": [],
   "source": [
    "bitbrains_input_0 = CsvFullReader(input_dir=bitbrains_input_dir, structured=True, columns=bitbrains_columns + [bitbrains_time_col]).read_input()"
   ]
  },
  {
   "cell_type": "code",
   "execution_count": 14,
   "metadata": {},
   "outputs": [],
   "source": [
    "bitbrains_input_1 = TimeConfigurator(time_col=bitbrains_time_col, time_unit=bitbrains_time_unit, freq=bitbrains_freq).run(bitbrains_input_0)"
   ]
  },
  {
   "cell_type": "code",
   "execution_count": 15,
   "metadata": {},
   "outputs": [],
   "source": [
    "bitbrains_input_2 = TaskNormalizer(col='CPU usage [MHZ]').run(bitbrains_input_1)\n",
    "bitbrains_input_3 = TaskNormalizer(col='CPU usage [%]').run(bitbrains_input_2)\n",
    "bitbrains_input_4 = TaskNormalizer(col='Memory usage [KB]').run(bitbrains_input_3)\n",
    "bitbrains_input_5 = TaskNormalizer(col='Disk read throughput [KB/s]').run(bitbrains_input_4)\n",
    "bitbrains_input_6 = TaskNormalizer(col='Disk write throughput [KB/s]').run(bitbrains_input_5)\n",
    "bitbrains_input_7 = TaskNormalizer(col='Network received throughput [KB/s]').run(bitbrains_input_6)\n",
    "bitbrains_input_ = TaskNormalizer(col='Network transmitted throughput [KB/s]').run(bitbrains_input_7)"
   ]
  },
  {
   "cell_type": "code",
   "execution_count": 16,
   "metadata": {},
   "outputs": [],
   "source": [
    "bitbrains_input_01 = OutlierHandler(col='CPU usage [MHZ]', llim=llim, ulim=ulim).run(bitbrains_input_)\n",
    "bitbrains_input_02 =OutlierHandler(col='CPU usage [%]', llim=llim, ulim=ulim).run(bitbrains_input_01)\n",
    "bitbrains_input_03 = OutlierHandler(col='Memory usage [KB]', llim=llim, ulim=ulim).run(bitbrains_input_02)\n",
    "bitbrains_input_04 = OutlierHandler(col='Disk read throughput [KB/s]', llim=llim, ulim=ulim).run(bitbrains_input_03)\n",
    "bitbrains_input_05 = OutlierHandler(col='Disk write throughput [KB/s]', llim=llim, ulim=ulim).run(bitbrains_input_04)\n",
    "bitbrains_input_06 = OutlierHandler(col='Network received throughput [KB/s]', llim=llim, ulim=ulim).run(bitbrains_input_05)\n",
    "bitbrains_input = OutlierHandler(col='Network transmitted throughput [KB/s]', llim=llim, ulim=ulim).run(bitbrains_input_06)"
   ]
  },
  {
   "attachments": {},
   "cell_type": "markdown",
   "metadata": {},
   "source": [
    "### Google"
   ]
  },
  {
   "cell_type": "code",
   "execution_count": 17,
   "metadata": {},
   "outputs": [],
   "source": [
    "google_input_dir = './google/'\n",
    "google_columns = ['avg_cpu_usage', 'avg_mem_usage', 'max_cpu_usage', 'max_mem_usage']\n",
    "google_time_col = 'start_time'\n",
    "google_time_unit = 'us'\n",
    "google_freq = '5min'"
   ]
  },
  {
   "cell_type": "code",
   "execution_count": 18,
   "metadata": {},
   "outputs": [],
   "source": [
    "google_input_0 = CsvFullReader(input_dir=google_input_dir, structured=True, columns=google_columns + [google_time_col]).read_input()"
   ]
  },
  {
   "cell_type": "code",
   "execution_count": 19,
   "metadata": {},
   "outputs": [],
   "source": [
    "google_input_1 = TimeConfigurator(time_col=google_time_col, time_unit=google_time_unit, freq=google_freq).run(google_input_0)"
   ]
  },
  {
   "cell_type": "code",
   "execution_count": 20,
   "metadata": {},
   "outputs": [],
   "source": [
    "google_input_2 = TaskNormalizer(col='avg_cpu_usage').run(google_input_1)\n",
    "google_input_3 = TaskNormalizer(col='avg_mem_usage').run(google_input_2)\n",
    "google_input_4 = TaskNormalizer(col='max_cpu_usage').run(google_input_3)\n",
    "google_input_ = TaskNormalizer(col='max_mem_usage').run(google_input_4)"
   ]
  },
  {
   "cell_type": "code",
   "execution_count": 21,
   "metadata": {},
   "outputs": [],
   "source": [
    "google_input_01 = OutlierHandler(col='avg_cpu_usage', llim=llim, ulim=ulim).run(google_input_)\n",
    "google_input_02 =OutlierHandler(col='avg_mem_usage', llim=llim, ulim=ulim).run(google_input_01)\n",
    "google_input_03 = OutlierHandler(col='max_cpu_usage', llim=llim, ulim=ulim).run(google_input_02)\n",
    "google_input = OutlierHandler(col='max_mem_usage', llim=llim, ulim=ulim).run(google_input_03)"
   ]
  },
  {
   "attachments": {},
   "cell_type": "markdown",
   "metadata": {},
   "source": [
    "## Calculations"
   ]
  },
  {
   "cell_type": "code",
   "execution_count": 69,
   "metadata": {},
   "outputs": [],
   "source": [
    "def calculate_errors(data, column, window=1):\n",
    "    data_1 = data[column][window:]\n",
    "\n",
    "    if window == 1:\n",
    "        data_2 = data[column][0:-1]\n",
    "    else:\n",
    "        windows = data[column][0:-1].rolling(window)\n",
    "        moving_averages = windows.mean()\n",
    "        moving_averages_list = moving_averages\n",
    "        data_2 = moving_averages_list[window - 1:]\n",
    "    \n",
    "    mae = mean_absolute_error(data_1, data_2)\n",
    "    \n",
    "    mse = mean_squared_error(data_1, data_2)\n",
    "\n",
    "    return mae, mse"
   ]
  },
  {
   "cell_type": "code",
   "execution_count": 70,
   "metadata": {},
   "outputs": [],
   "source": [
    "def calculate_errors_first(data, column, window=1):\n",
    "    data_1 = data[column][window:]\n",
    "\n",
    "    if window == 1:\n",
    "        data_2 = data[column][0:-1]\n",
    "    else:\n",
    "        data_2 = data[column][0:-window]\n",
    "\n",
    "    mae = mean_absolute_error(data_1, data_2)\n",
    "    \n",
    "    mse = mean_squared_error(data_1, data_2)\n",
    "\n",
    "    return mae, mse"
   ]
  },
  {
   "attachments": {},
   "cell_type": "markdown",
   "metadata": {},
   "source": [
    "## Experiments"
   ]
  },
  {
   "attachments": {},
   "cell_type": "markdown",
   "metadata": {},
   "source": [
    "### Functions"
   ]
  },
  {
   "cell_type": "code",
   "execution_count": 24,
   "metadata": {},
   "outputs": [],
   "source": [
    "def get_errors(input, col, window=1):\n",
    "    mae_list = []\n",
    "    mse_list = []\n",
    "\n",
    "    for fraction in input.get_fractions():\n",
    "        mae, mse = calculate_errors(fraction.data, col, window)\n",
    "\n",
    "        mae_list.append(mae)\n",
    "        mse_list.append(mse)\n",
    "\n",
    "    return mae_list, mse_list"
   ]
  },
  {
   "cell_type": "code",
   "execution_count": 25,
   "metadata": {},
   "outputs": [],
   "source": [
    "def get_errors_first(input, col, window=1):\n",
    "    mae_list = []\n",
    "    mse_list = []\n",
    "\n",
    "    for fraction in input.get_fractions():\n",
    "        mae, mse = calculate_errors_first(fraction.data, col, window)\n",
    "\n",
    "        mae_list.append(mae)\n",
    "        mse_list.append(mse)\n",
    "\n",
    "    return mae_list, mse_list"
   ]
  },
  {
   "cell_type": "code",
   "execution_count": 26,
   "metadata": {},
   "outputs": [],
   "source": [
    "def plot_cdf(measures):\n",
    "    fig, ax = plt.subplots()\n",
    "\n",
    "    x = np.sort(measures)\n",
    "    y = 1. * np.arange(len(measures)) / (len(measures) - 1)\n",
    "    \n",
    "    ax.plot(x, y)\n",
    "\n",
    "    plt.show()\n",
    "    plt.close()"
   ]
  },
  {
   "cell_type": "code",
   "execution_count": 27,
   "metadata": {},
   "outputs": [],
   "source": [
    "def find_avg(measures, error, prob):\n",
    "    avg = np.mean(measures)\n",
    "\n",
    "    avg_idx = 0\n",
    "    for i, x in enumerate(error):\n",
    "        if x >= avg:\n",
    "            avg_idx = i\n",
    "            break\n",
    "\n",
    "    return error[avg_idx], prob[avg_idx]"
   ]
  },
  {
   "attachments": {},
   "cell_type": "markdown",
   "metadata": {},
   "source": [
    "### Run"
   ]
  },
  {
   "cell_type": "code",
   "execution_count": 28,
   "metadata": {},
   "outputs": [],
   "source": [
    "all_datasets = [\n",
    "    ('alibaba', alibaba_input, alibaba_columns),\n",
    "    ('azure', azure_input, azure_columns),\n",
    "    ('bitbrains', bitbrains_input, bitbrains_columns),\n",
    "    ('google', google_input, google_columns)\n",
    "]"
   ]
  },
  {
   "attachments": {},
   "cell_type": "markdown",
   "metadata": {},
   "source": [
    "#### Previous Calculations"
   ]
  },
  {
   "cell_type": "code",
   "execution_count": 29,
   "metadata": {},
   "outputs": [],
   "source": [
    "res = {}\n",
    "for name, input, columns in all_datasets:\n",
    "\n",
    "    res[name] = {}\n",
    "    \n",
    "    for col in columns:\n",
    "        res[name][col] = {}\n",
    "        \n",
    "        mae, mse = get_errors(input, col)\n",
    "        \n",
    "        res[name][col]['mae'] = mae\n",
    "        res[name][col]['mse'] = mse"
   ]
  },
  {
   "attachments": {},
   "cell_type": "markdown",
   "metadata": {},
   "source": [
    "#### Window Average Calculations"
   ]
  },
  {
   "cell_type": "code",
   "execution_count": 31,
   "metadata": {},
   "outputs": [],
   "source": [
    "windows = [2, 4, 6, 12, 24, 36, 72] # 10min, 20min, 30min, 1h, 2h, 3h, 6h\n",
    "res_win = {}\n",
    "\n",
    "for window in windows:\n",
    "    res_win[window] = {}"
   ]
  },
  {
   "cell_type": "code",
   "execution_count": 32,
   "metadata": {},
   "outputs": [],
   "source": [
    "for name, input, columns in all_datasets[1:]:\n",
    "    for window in windows:\n",
    "        res_win[window][name] = {}\n",
    "\n",
    "        for col in columns:\n",
    "            res_win[window][name][col] = {}\n",
    "            \n",
    "            mae, mse = get_errors(input, col, window)\n",
    "            \n",
    "            res_win[window][name][col]['mae'] = mae\n",
    "            res_win[window][name]['mse'] = mse"
   ]
  },
  {
   "attachments": {},
   "cell_type": "markdown",
   "metadata": {},
   "source": [
    "#### Window First Calculations"
   ]
  },
  {
   "cell_type": "code",
   "execution_count": 33,
   "metadata": {},
   "outputs": [],
   "source": [
    "windows = [2, 4, 6, 12, 24, 36, 72] # 10min, 20min, 30min, 1h, 2h, 3h, 6h\n",
    "res_win_f = {}\n",
    "\n",
    "for window in windows:\n",
    "    res_win_f[window] = {}"
   ]
  },
  {
   "cell_type": "code",
   "execution_count": 34,
   "metadata": {},
   "outputs": [],
   "source": [
    "for name, input, columns in all_datasets[1:]:\n",
    "    for window in windows:\n",
    "        res_win_f[window][name] = {}\n",
    "\n",
    "        for col in columns:\n",
    "            res_win_f[window][name][col] = {}\n",
    "            \n",
    "            mae, mse = get_errors_first(input, col, window)\n",
    "            \n",
    "            res_win_f[window][name][col]['mae'] = mae\n",
    "            res_win_f[window][name]['mse'] = mse"
   ]
  },
  {
   "attachments": {},
   "cell_type": "markdown",
   "metadata": {},
   "source": [
    "### Paper Figures"
   ]
  },
  {
   "cell_type": "code",
   "execution_count": 63,
   "metadata": {},
   "outputs": [],
   "source": [
    "mpl.rcParams.update(mpl.rcParamsDefault)\n",
    "mpl.rcParams['pdf.fonttype'] = 42\n",
    "mpl.rcParams['ps.fonttype'] = 42\n",
    "colors_light = ['#e2b890', '#66f', '#e6e600', '#a9b3bd', '#e3a0ff', '#f7b1dd', '#94e594']\n",
    "colors = [\"#f2dfa8\", \"#e6ae65\", \"#c8685b\", \"#923b62\", \"#69105e\", \"#1e256c\", \"#0e0721\"]\n",
    "mpl.rcParams['axes.prop_cycle'] = mpl.cycler(color=colors)"
   ]
  },
  {
   "cell_type": "code",
   "execution_count": 64,
   "metadata": {},
   "outputs": [],
   "source": [
    "cpu_colors = [\"#ff6666\", \"#db0c0c\", \"#a90c0c\"]\n",
    "mem_colors = ['#30cb00', '#006203']\n",
    "net_colors = ['#889dce', '#343c90']\n",
    "disk_colors = ['#828282', '#000000']"
   ]
  },
  {
   "cell_type": "code",
   "execution_count": 65,
   "metadata": {},
   "outputs": [],
   "source": [
    "def pick_color(col_name):\n",
    "    if col_name in ['min-cpu']:\n",
    "        return cpu_colors[0]\n",
    "    if col_name in ['cpu', 'avg-cpu']:\n",
    "        return cpu_colors[1]\n",
    "    if col_name in ['max-cpu', 'cpu-raw']:\n",
    "        return cpu_colors[2]\n",
    "    if col_name in ['mem', 'avg-mem']:\n",
    "        return mem_colors[0]\n",
    "    if col_name in ['max-mem', 'mem-raw']:\n",
    "        return mem_colors[1]\n",
    "    if col_name in ['net-in', 'net-recv']:\n",
    "        return net_colors[0]\n",
    "    if col_name in ['net-out', 'net-xmit']:\n",
    "        return net_colors[1]\n",
    "    if col_name in ['disk-io', 'disk-rd']:\n",
    "        return disk_colors[0]\n",
    "    if col_name in ['disk-wr']:\n",
    "        return disk_colors[1]"
   ]
  },
  {
   "cell_type": "code",
   "execution_count": 66,
   "metadata": {},
   "outputs": [],
   "source": [
    "measure = \"mae\""
   ]
  },
  {
   "attachments": {},
   "cell_type": "markdown",
   "metadata": {},
   "source": [
    "### Figure 3\n",
    "\n",
    "Cumulative distribution of the average relative delta (ARD) metric per time series. \n",
    "\n",
    "The y-axis shows the probability of the ARD value being less than the corresponding value on the x-axis. The experiments are grouped by dataset and every line in the CDF plots corresponds to a different resource metric, as summarized in the Table 1 of the paper. We use red shades to illustrate the metrics related to CPU usage, green for the memory, blue for the network and black for the disk I/O. The star marks the average value of each distribution, and the dashed line marks the end of each line’s tail. "
   ]
  },
  {
   "cell_type": "code",
   "execution_count": 67,
   "metadata": {},
   "outputs": [
    {
     "name": "stdout",
     "output_type": "stream",
     "text": [
      "alibaba\n",
      "cpu 6.974467442211814\n",
      "mem 3.860624241268947\n",
      "net-in 0.01445394516629644\n",
      "net-out 0.014492123530860981\n",
      "disk-io 2.6028595536495303\n"
     ]
    },
    {
     "data": {
      "image/png": "[encoded data removed]",
      "text/plain": [
       "<Figure size 200x145 with 1 Axes>"
      ]
     },
     "metadata": {},
     "output_type": "display_data"
    },
    {
     "name": "stdout",
     "output_type": "stream",
     "text": [
      "azure\n",
      "min-cpu 3.210159909862948\n",
      "max-cpu 10.301965149701239\n",
      "avg-cpu 4.426647778041958\n"
     ]
    },
    {
     "data": {
      "image/png": "[encoded data removed]",
      "text/plain": [
       "<Figure size 200x145 with 1 Axes>"
      ]
     },
     "metadata": {},
     "output_type": "display_data"
    },
    {
     "name": "stdout",
     "output_type": "stream",
     "text": [
      "bitbrains\n",
      "cpu-raw 3.0518700716967433\n",
      "cpu 3.0518696740913778\n",
      "mem-raw 5.73204100737988\n",
      "disk-rd 0.20885423085161897\n",
      "disk-wr 1.4136478612726502\n",
      "net-recv 0.6605194122606507\n",
      "net-xmit 1.0267391843523728\n"
     ]
    },
    {
     "data": {
      "image/png": "[encoded data removed]",
      "text/plain": [
       "<Figure size 200x145 with 1 Axes>"
      ]
     },
     "metadata": {},
     "output_type": "display_data"
    },
    {
     "name": "stdout",
     "output_type": "stream",
     "text": [
      "google\n",
      "avg-cpu 3.3852855472077827\n",
      "avg-mem 2.202144305148817\n",
      "max-cpu 5.691508503649091\n",
      "max-mem 2.846848386294722\n"
     ]
    },
    {
     "data": {
      "image/png": "[encoded data removed]",
      "text/plain": [
       "<Figure size 200x145 with 1 Axes>"
      ]
     },
     "metadata": {},
     "output_type": "display_data"
    }
   ],
   "source": [
    "for name, input, columns in all_datasets:\n",
    "    print(name)\n",
    "    fig, ax = plt.subplots(figsize=(2,1.45))\n",
    "\n",
    "    base = 0.15\n",
    "    if name == 'alibaba':\n",
    "        base =0.05\n",
    "        col_names = ['cpu', 'mem', 'net-in', 'net-out', 'disk-io']\n",
    "        ncols = 2\n",
    "        yleg = 1.15\n",
    "    elif name == 'azure':\n",
    "        col_names = ['min-cpu', 'max-cpu', 'avg-cpu']\n",
    "        ncols = 2\n",
    "        yleg = 1.3\n",
    "    elif name == 'bitbrains':\n",
    "        col_names = ['cpu-raw', 'cpu', 'mem-raw', 'disk-rd', 'disk-wr', 'net-recv', 'net-xmit']\n",
    "        ncols = 2\n",
    "        yleg = 1\n",
    "    else:\n",
    "        col_names = ['avg-cpu', 'avg-mem', 'max-cpu', 'max-mem']\n",
    "        ncols = 2\n",
    "        yleg = 1.3\n",
    "\n",
    "    i = 0\n",
    "    lines = []\n",
    "    for col, col_name in zip(columns, col_names):\n",
    "        tmp_color = pick_color(col_name)\n",
    "        measures = res[name][col][measure]\n",
    "\n",
    "\n",
    "        x = np.sort(measures)\n",
    "        y = 1. * np.arange(len(measures)) / (len(measures) - 1)\n",
    "\n",
    "        avg_x, avg_y = find_avg(measures, x, y)\n",
    "        print(col_name, avg_x*100)\n",
    "\n",
    "        ax.vlines(x = x[-1], ymin = 0, ymax = 1, colors=tmp_color, ls='--', linewidth=1)\n",
    "        ax.plot(avg_x, avg_y, marker=\"*\", markersize=3, markeredgecolor=tmp_color)\n",
    "        line = ax.plot(x, y, label=col_name, color=tmp_color, linewidth=1)\n",
    "        lines.extend(line)\n",
    "\n",
    "        i = i + 1\n",
    "\n",
    "    ax.legend(loc='lower left', bbox_to_anchor=(-0.4, yleg, 1.44, .1), fontsize=8, ncols=ncols, handlelength=2, mode='expand')\n",
    "    \n",
    "    ax.set_xlabel('Average Relative Delta', size=9)\n",
    "    ax.xaxis.set_major_locator(mpl.ticker.IndexLocator(base=base, offset=0))\n",
    "    ax.xaxis.set_major_formatter(mpl.ticker.FuncFormatter(lambda x, pos: \"{:.0f}%\".format(x*100)))\n",
    "    ax.tick_params(axis='x', labelsize=8)\n",
    "    \n",
    "    if name == 'alibaba':\n",
    "        ax.set_ylabel('CDF - Probability', size=9)\n",
    "    \n",
    "    ax.tick_params(axis='y', labelsize=8)\n",
    "\n",
    "    if name in ['bitbrains', 'google']:\n",
    "        ax.set_xlim(right=0.66)\n",
    "\n",
    "    plt.show()"
   ]
  },
  {
   "attachments": {},
   "cell_type": "markdown",
   "metadata": {},
   "source": [
    "### Figure 4\n",
    "\n",
    "Average ARD values across all time series of the corresponding resource metric (x-axis) for the Google dataset. \n",
    "\n",
    "Each bar corresponds to a different length of the time window, in which case we calculate the delta between the current value of the timeseries and the one reported at the start of the corresponding time window."
   ]
  },
  {
   "cell_type": "code",
   "execution_count": 68,
   "metadata": {},
   "outputs": [
    {
     "name": "stdout",
     "output_type": "stream",
     "text": [
      "window = 1\n",
      "['Avg CPU', 'Max CPU', 'Avg Memory', 'Max Memory']\n",
      "[0.033850930917413244, 0.05685577627417588, 0.02201923000123515, 0.02827138100443598]\n",
      "window = 2\n",
      "['Avg CPU', 'Max CPU', 'Avg Memory', 'Max Memory']\n",
      "[0.03915750732098352, 0.055055543881234376, 0.025451923915573944, 0.0318169349788967]\n",
      "window = 4\n",
      "['Avg CPU', 'Max CPU', 'Avg Memory', 'Max Memory']\n",
      "[0.04261398794680197, 0.052576578290649656, 0.029912855033445887, 0.0359659112041372]\n",
      "window = 6\n",
      "['Avg CPU', 'Max CPU', 'Avg Memory', 'Max Memory']\n",
      "[0.04507288241189068, 0.054938872545270856, 0.03265832613057722, 0.038134158812352395]\n",
      "window = 12\n",
      "['Avg CPU', 'Max CPU', 'Avg Memory', 'Max Memory']\n",
      "[0.04791268170267649, 0.05356756032754856, 0.036685264315159255, 0.04125520051777965]\n",
      "window = 24\n",
      "['Avg CPU', 'Max CPU', 'Avg Memory', 'Max Memory']\n",
      "[0.05231275524077474, 0.054960162445227535, 0.042094685079507504, 0.0462362406693469]\n"
     ]
    },
    {
     "data": {
      "image/png": "[encoded data removed]",
      "text/plain": [
       "<Figure size 400x190 with 1 Axes>"
      ]
     },
     "metadata": {},
     "output_type": "display_data"
    }
   ],
   "source": [
    "X = ['Avg CPU', 'Max CPU', 'Avg Memory', 'Max Memory']\n",
    "windows = [1, 2, 4, 6, 12, 24]\n",
    "windows_names = ['5min', '10min', '20min', '30min', '1h', '2h']\n",
    "gap = 0.02\n",
    "offset = 0\n",
    "X_axis = np.arange(len(X)) + offset\n",
    "\n",
    "fig, ax = plt.subplots(figsize=(4,1.9))\n",
    "i = 0\n",
    "for w, w_name in zip(windows, windows_names):\n",
    "    print(f\"window = {w}\")\n",
    "    print(X)\n",
    "    if w == 1:\n",
    "        results = [\n",
    "            np.mean(res['google']['avg_cpu_usage'][measure]),\n",
    "            np.mean(res['google']['max_cpu_usage'][measure]),\n",
    "            np.mean(res['google']['avg_mem_usage'][measure]),\n",
    "            np.mean(res['google']['max_mem_usage'][measure])\n",
    "        ]\n",
    "        print(results)\n",
    "        ax.bar(X_axis - 0.25 + (0.1 + gap) * i - gap * (len(windows)/2 - 0.5), results, 0.1, label=w_name)\n",
    "    else:\n",
    "        results = [\n",
    "            np.mean(res_win_f[w]['google']['avg_cpu_usage'][measure]),\n",
    "            np.mean(res_win_f[w]['google']['max_cpu_usage'][measure]),\n",
    "            np.mean(res_win_f[w]['google']['avg_mem_usage'][measure]),\n",
    "            np.mean(res_win_f[w]['google']['max_mem_usage'][measure]),\n",
    "        ]\n",
    "        print(results)\n",
    "        ax.bar(X_axis - 0.25 + (0.1 + gap) * i - gap * (len(windows)/2 - 0.5), results, 0.1, label=w_name)\n",
    "\n",
    "    i = i + 1\n",
    "ax.set_xticks(X_axis, X)\n",
    "ax.tick_params(axis='x', labelsize=8)\n",
    "\n",
    "ax.set_ylabel(\"Average ARD\", size=9)\n",
    "ax.yaxis.set_major_locator(mpl.ticker.IndexLocator(base=0.03, offset=0))\n",
    "ax.yaxis.set_major_formatter(mpl.ticker.FuncFormatter(lambda x, pos: \"{:.0f}%\".format(x*100)))\n",
    "ax.tick_params(axis='y', labelsize=8)\n",
    "ax.set_ylim(top=0.06125)\n",
    "\n",
    "ax.legend(loc='lower left', bbox_to_anchor=(-0.18, 1.1, 1.2, .1), fontsize=8, ncols=6, handlelength=1, mode='expand')\n",
    "\n",
    "plt.show()"
   ]
  }
 ],
 "metadata": {
  "kernelspec": {
   "display_name": ".venv",
   "language": "python",
   "name": "python3"
  },
  "language_info": {
   "codemirror_mode": {
    "name": "ipython",
    "version": 3
   },
   "file_extension": ".py",
   "mimetype": "text/x-python",
   "name": "python",
   "nbconvert_exporter": "python",
   "pygments_lexer": "ipython3",
   "version": "3.9.6"
  },
  "orig_nbformat": 4,
  "vscode": {
   "interpreter": {
    "hash": "4cbfe3942a2c2493be45357a74466ae47d31e4fc9fb8cb67ec0db9fcfa5c8c97"
   }
  }
 },
 "nbformat": 4,
 "nbformat_minor": 2
}
